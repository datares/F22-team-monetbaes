{
 "cells": [
  {
   "cell_type": "code",
   "execution_count": 2,
   "id": "a55026f6",
   "metadata": {},
   "outputs": [],
   "source": [
    "# importing libraries\n",
    "import pandas as pd\n",
    "import numpy as np\n",
    "import matplotlib.pyplot as plt\n",
    "import plotly.graph_objs as go"
   ]
  },
  {
   "cell_type": "markdown",
   "id": "67309cb2",
   "metadata": {},
   "source": [
    "## NY MOMA DATASET"
   ]
  },
  {
   "cell_type": "code",
   "execution_count": 3,
   "id": "c7e5c029",
   "metadata": {},
   "outputs": [
    {
     "data": {
      "text/html": [
       "<div>\n",
       "<style scoped>\n",
       "    .dataframe tbody tr th:only-of-type {\n",
       "        vertical-align: middle;\n",
       "    }\n",
       "\n",
       "    .dataframe tbody tr th {\n",
       "        vertical-align: top;\n",
       "    }\n",
       "\n",
       "    .dataframe thead th {\n",
       "        text-align: right;\n",
       "    }\n",
       "</style>\n",
       "<table border=\"1\" class=\"dataframe\">\n",
       "  <thead>\n",
       "    <tr style=\"text-align: right;\">\n",
       "      <th></th>\n",
       "      <th>Artist ID</th>\n",
       "      <th>Name</th>\n",
       "      <th>Nationality</th>\n",
       "      <th>Gender</th>\n",
       "      <th>Birth Year</th>\n",
       "      <th>Death Year</th>\n",
       "    </tr>\n",
       "  </thead>\n",
       "  <tbody>\n",
       "    <tr>\n",
       "      <th>0</th>\n",
       "      <td>1</td>\n",
       "      <td>Robert Arneson</td>\n",
       "      <td>American</td>\n",
       "      <td>Male</td>\n",
       "      <td>1930.0</td>\n",
       "      <td>1992.0</td>\n",
       "    </tr>\n",
       "    <tr>\n",
       "      <th>1</th>\n",
       "      <td>2</td>\n",
       "      <td>Doroteo Arnaiz</td>\n",
       "      <td>Spanish</td>\n",
       "      <td>Male</td>\n",
       "      <td>1936.0</td>\n",
       "      <td>NaN</td>\n",
       "    </tr>\n",
       "    <tr>\n",
       "      <th>2</th>\n",
       "      <td>3</td>\n",
       "      <td>Bill Arnold</td>\n",
       "      <td>American</td>\n",
       "      <td>Male</td>\n",
       "      <td>1941.0</td>\n",
       "      <td>NaN</td>\n",
       "    </tr>\n",
       "    <tr>\n",
       "      <th>3</th>\n",
       "      <td>4</td>\n",
       "      <td>Charles Arnoldi</td>\n",
       "      <td>American</td>\n",
       "      <td>Male</td>\n",
       "      <td>1946.0</td>\n",
       "      <td>NaN</td>\n",
       "    </tr>\n",
       "    <tr>\n",
       "      <th>4</th>\n",
       "      <td>5</td>\n",
       "      <td>Per Arnoldi</td>\n",
       "      <td>Danish</td>\n",
       "      <td>Male</td>\n",
       "      <td>1941.0</td>\n",
       "      <td>NaN</td>\n",
       "    </tr>\n",
       "  </tbody>\n",
       "</table>\n",
       "</div>"
      ],
      "text/plain": [
       "   Artist ID             Name Nationality Gender  Birth Year  Death Year\n",
       "0          1   Robert Arneson    American   Male      1930.0      1992.0\n",
       "1          2   Doroteo Arnaiz     Spanish   Male      1936.0         NaN\n",
       "2          3      Bill Arnold    American   Male      1941.0         NaN\n",
       "3          4  Charles Arnoldi    American   Male      1946.0         NaN\n",
       "4          5      Per Arnoldi      Danish   Male      1941.0         NaN"
      ]
     },
     "execution_count": 3,
     "metadata": {},
     "output_type": "execute_result"
    }
   ],
   "source": [
    "# reading in csv file \n",
    "# source: https://www.kaggle.com/datasets/momanyc/museum-collection\n",
    "moma = pd.read_csv('artist_moma.csv', encoding ='latin-1')\n",
    "moma.head()"
   ]
  },
  {
   "cell_type": "code",
   "execution_count": 5,
   "id": "3c1d49d6",
   "metadata": {
    "scrolled": true
   },
   "outputs": [
    {
     "name": "stdout",
     "output_type": "stream",
     "text": [
      "0        American\n",
      "1         Spanish\n",
      "2        American\n",
      "3        American\n",
      "4          Danish\n",
      "           ...   \n",
      "15082    American\n",
      "15084    American\n",
      "15085     Chinese\n",
      "15086     Chinese\n",
      "15087     Chinese\n",
      "Name: Nationality, Length: 12603, dtype: object\n"
     ]
    }
   ],
   "source": [
    "# splicing nationality\n",
    "nationality = moma['Nationality']\n",
    "n_nation = nationality.dropna()\n",
    "\n",
    "print(n_nation)"
   ]
  },
  {
   "cell_type": "code",
   "execution_count": 6,
   "id": "e1dc5db4",
   "metadata": {},
   "outputs": [
    {
     "name": "stdout",
     "output_type": "stream",
     "text": [
      "[('American', 5198), ('German', 930), ('French', 839), ('British', 835), ('Italian', 531), ('Japanese', 498), ('Swiss', 280), ('Dutch', 265), ('Nationality unknown', 255), ('Austrian', 243), ('Canadian', 196), ('Russian', 188), ('Brazilian', 155), ('Spanish', 153), ('Argentine', 139), ('Swedish', 130), ('Mexican', 128), ('Polish', 125), ('Danish', 119), ('Belgian', 89), ('Czech', 83), ('Chinese', 81), ('Israeli', 75), ('South African', 69), ('Chilean', 61), ('Finnish', 60), ('Cuban', 58), ('Australian', 56), ('Hungarian', 52), ('Norwegian', 49), ('Colombian', 42), ('Venezuelan', 41), ('Korean', 35), ('Peruvian', 34), ('Indian', 28), ('Scottish', 28), ('Turkish', 26), ('Croatian', 25), ('Yugoslav', 24), ('Uruguayan', 21), ('Iranian', 21), ('Romanian', 20), ('Irish', 19), ('Haitian', 17), ('Portuguese', 17), ('New Zealander', 16), ('Greek', 13), ('Ukrainian', 11), ('Icelandic', 11), ('Slovak', 8), ('Bosnian', 8), ('Egyptian', 8), ('Taiwanese', 7), ('Georgian', 7), ('Vietnamese', 7), ('Algerian', 6), ('Slovenian', 6), ('Czechoslovakian', 6), ('Serbian', 6), ('Lebanese', 6), ('Guatemalan', 5), ('Moroccan', 5), ('Puerto Rican', 5), ('Ecuadorian', 4), ('Luxembourgish', 4), ('Zimbabwean', 4), ('Bulgarian', 4), ('Tunisian', 4), ('Albanian', 4), ('Palestinian', 4), ('Iraqi', 4), ('Estonian', 3), ('Bolivian', 3), ('Canadian Inuit', 3), ('Senegalese', 3), ('Thai', 3), ('Pakistani', 3), ('Malian', 3), ('Nigerian', 3), ('Singaporean', 3), ('Ghanaian', 3), ('Kyrgyzstani', 3), ('Filipino', 3), ('Various', 2), ('Costa Rican', 2), ('Congolese', 2), ('Panamanian', 2), ('Nicaraguan', 2), ('Latvian', 2), ('Nationality Unknown', 2), ('Lithuanian', 2), ('Kenyan', 2), ('Malaysian', 2), ('Namibian', 2), ('nationality unknown', 2), ('Welsh', 2), ('Kazakhstani', 2), ('Kuwaiti', 1), ('Guyanese', 1), ('Paraguayan', 1), ('Tanzanian', 1), ('Sudanese', 1), ('Ethiopian', 1), ('Bahamian', 1), ('Emirati', 1), ('Cypriot', 1), ('Azerbaijani', 1), ('Ivorian', 1), ('Tajik', 1), ('Cambodian', 1), ('Afghan', 1), ('Native American', 1), ('Ugandan', 1), ('Cameroonian', 1), ('Mauritanian', 1), ('Syrian', 1), ('Saudi Arabian', 1), ('Rwandan', 1), ('Indonesian', 1), ('Burkinabe', 1), ('Macedonian', 1), ('Mozambican', 1), ('Angolan', 1), ('Catalan', 1), ('Sahrawi', 1)]\n"
     ]
    }
   ],
   "source": [
    "# counting frequency of each nationality\n",
    "from collections import Counter\n",
    "top = Counter(n_nation).most_common()\n",
    "print(top)"
   ]
  },
  {
   "cell_type": "code",
   "execution_count": 13,
   "id": "2143113b",
   "metadata": {},
   "outputs": [],
   "source": [
    "np_nation = np.array(top) # from list to array\n",
    "frequency = np_nation[:,1] # take frequency from  into an array\n",
    "origin = np_nation[:,0] # take nationality from list into an array"
   ]
  },
  {
   "cell_type": "code",
   "execution_count": 14,
   "id": "aa5e672a",
   "metadata": {},
   "outputs": [
    {
     "data": {
      "text/plain": [
       "array([5198,  930,  839,  835,  531,  498,  280,  265,  255,  243,  196,\n",
       "        188,  155,  153,  139,  130,  128,  125,  119,   89,   83,   81,\n",
       "         75,   69,   61,   60,   58,   56,   52,   49,   42,   41,   35,\n",
       "         34,   28,   28,   26,   25,   24,   21,   21,   20,   19,   17,\n",
       "         17,   16,   13,   11,   11,    8,    8,    8,    7,    7,    7,\n",
       "          6,    6,    6,    6,    6,    5,    5,    5,    4,    4,    4,\n",
       "          4,    4,    4,    4,    4,    3,    3,    3,    3,    3,    3,\n",
       "          3,    3,    3,    3,    3,    3,    2,    2,    2,    2,    2,\n",
       "          2,    2,    2,    2,    2,    2,    2,    2,    2,    1,    1,\n",
       "          1,    1,    1,    1,    1,    1,    1,    1,    1,    1,    1,\n",
       "          1,    1,    1,    1,    1,    1,    1,    1,    1,    1,    1,\n",
       "          1,    1,    1,    1])"
      ]
     },
     "execution_count": 14,
     "metadata": {},
     "output_type": "execute_result"
    }
   ],
   "source": [
    "freq_int = frequency.astype(int) # changing item type from strings to integers\n",
    "freq_int"
   ]
  },
  {
   "cell_type": "code",
   "execution_count": 15,
   "id": "f277e062",
   "metadata": {},
   "outputs": [
    {
     "data": {
      "text/plain": [
       "array(['American', 'German', 'French', 'British', 'Italian', 'Japanese',\n",
       "       'Swiss', 'Dutch', 'Nationality unknown', 'Austrian', 'Canadian',\n",
       "       'Russian', 'Brazilian', 'Spanish', 'Argentine', 'Swedish',\n",
       "       'Mexican', 'Polish', 'Danish', 'Belgian', 'Czech', 'Chinese',\n",
       "       'Israeli', 'South African', 'Chilean', 'Finnish', 'Cuban',\n",
       "       'Australian', 'Hungarian', 'Norwegian', 'Colombian', 'Venezuelan',\n",
       "       'Korean', 'Peruvian', 'Indian', 'Scottish', 'Turkish', 'Croatian',\n",
       "       'Yugoslav', 'Uruguayan', 'Iranian', 'Romanian', 'Irish', 'Haitian',\n",
       "       'Portuguese', 'New Zealander', 'Greek', 'Ukrainian', 'Icelandic',\n",
       "       'Slovak', 'Bosnian', 'Egyptian', 'Taiwanese', 'Georgian',\n",
       "       'Vietnamese', 'Algerian', 'Slovenian', 'Czechoslovakian',\n",
       "       'Serbian', 'Lebanese', 'Guatemalan', 'Moroccan', 'Puerto Rican',\n",
       "       'Ecuadorian', 'Luxembourgish', 'Zimbabwean', 'Bulgarian',\n",
       "       'Tunisian', 'Albanian', 'Palestinian', 'Iraqi', 'Estonian',\n",
       "       'Bolivian', 'Canadian Inuit', 'Senegalese', 'Thai', 'Pakistani',\n",
       "       'Malian', 'Nigerian', 'Singaporean', 'Ghanaian', 'Kyrgyzstani',\n",
       "       'Filipino', 'Various', 'Costa Rican', 'Congolese', 'Panamanian',\n",
       "       'Nicaraguan', 'Latvian', 'Nationality Unknown', 'Lithuanian',\n",
       "       'Kenyan', 'Malaysian', 'Namibian', 'nationality unknown', 'Welsh',\n",
       "       'Kazakhstani', 'Kuwaiti', 'Guyanese', 'Paraguayan', 'Tanzanian',\n",
       "       'Sudanese', 'Ethiopian', 'Bahamian', 'Emirati', 'Cypriot',\n",
       "       'Azerbaijani', 'Ivorian', 'Tajik', 'Cambodian', 'Afghan',\n",
       "       'Native American', 'Ugandan', 'Cameroonian', 'Mauritanian',\n",
       "       'Syrian', 'Saudi Arabian', 'Rwandan', 'Indonesian', 'Burkinabe',\n",
       "       'Macedonian', 'Mozambican', 'Angolan', 'Catalan', 'Sahrawi'],\n",
       "      dtype='<U19')"
      ]
     },
     "execution_count": 15,
     "metadata": {},
     "output_type": "execute_result"
    }
   ],
   "source": [
    "origin"
   ]
  },
  {
   "cell_type": "code",
   "execution_count": 31,
   "id": "aea0f322",
   "metadata": {},
   "outputs": [],
   "source": [
    "# convert nationalities into country codes using ISO alpha-3 (format for plotly)\n",
    "# reference: https://en.wikipedia.org/wiki/ISO_3166-1_alpha-3\n",
    "# nationality unknown = XXX\n",
    "countrycodes = ['USA', 'DEU', 'FRA','GBR', 'ITA', 'JPN', 'CHE', 'NLD', 'XXX', 'AUT', 'CAN', 'RUS', 'BRA', 'ESP', 'ARG', \n",
    "                'SWE',\n",
    "                'MEX','POL', 'DNK', 'BEL', 'CZE', 'CHN', 'ISR', 'ZAF', 'CHL', 'FIN', 'CUB', 'AUS', 'HUN', 'NOR', 'COL', \n",
    "                'VEN', 'KOR', 'PER', 'IND', 'GBR', 'TUR', 'HRV', 'YUG', 'URY', 'IRN', 'ROU','IRL', 'HTI', 'PRT', 'NZL', \n",
    "                'GRC', 'UKR', 'ISL', 'SVK', 'BIH', 'EGY', 'TWN', 'GEO', 'VNM', 'DZA', 'SVN', 'CZE', 'SRB',\n",
    "                'LBN', 'GTM', 'MAR', 'PRI',\n",
    "                'ECU', 'LUX', 'ZWE', 'BGR', 'TUN', 'ALB', 'PSE', 'IRQ', 'EST', 'BOL', 'CAN', 'SEN', 'THA', 'PAK', 'MLI', \n",
    "                'NGA', 'SGP', 'GHA', 'KGZ', 'PHL', 'XXX', 'CRI', 'COG', 'PAN', 'NIC', 'LVA', 'XXX', 'LTU', 'KEN', 'MYS',\n",
    "                'NAM', 'XXX', 'GBR', 'KAZ', 'KWT', 'GUY', 'PRY', 'TZA', 'SDN', 'ETH', 'BHS', 'ARE', 'CYP', 'AZE', 'CIV', \n",
    "                'TJK', 'KHM', 'AFG', 'USA', 'UGA', 'CMR', 'MRT', 'SYR', 'SAU', 'RWA', 'IDN', 'BFA', 'MKD', 'MOZ', 'AGO',\n",
    "                'ESP', 'ESH']\n",
    "\n",
    "# put Scottish &  Welsh under Great Britain\n",
    "# values 19 & 2 respectively, will drop later and change up GBR value"
   ]
  },
  {
   "cell_type": "code",
   "execution_count": 32,
   "id": "5db5970c",
   "metadata": {},
   "outputs": [
    {
     "data": {
      "text/plain": [
       "['USA', 5198]"
      ]
     },
     "execution_count": 32,
     "metadata": {},
     "output_type": "execute_result"
    }
   ],
   "source": [
    "# testing accuracy\n",
    "test = [countrycodes[0], freq_int[0]]\n",
    "test"
   ]
  },
  {
   "cell_type": "code",
   "execution_count": 33,
   "id": "d4fcce9d",
   "metadata": {},
   "outputs": [
    {
     "data": {
      "text/plain": [
       "[['USA', 5198],\n",
       " ['DEU', 930],\n",
       " ['FRA', 839],\n",
       " ['GBR', 835],\n",
       " ['ITA', 531],\n",
       " ['JPN', 498],\n",
       " ['CHE', 280],\n",
       " ['NLD', 265],\n",
       " ['XXX', 255],\n",
       " ['AUT', 243],\n",
       " ['CAN', 196],\n",
       " ['RUS', 188],\n",
       " ['BRA', 155],\n",
       " ['ESP', 153],\n",
       " ['ARG', 139],\n",
       " ['SWE', 130],\n",
       " ['MEX', 128],\n",
       " ['POL', 125],\n",
       " ['DNK', 119],\n",
       " ['BEL', 89],\n",
       " ['CZE', 83],\n",
       " ['CHN', 81],\n",
       " ['ISR', 75],\n",
       " ['ZAF', 69],\n",
       " ['CHL', 61],\n",
       " ['FIN', 60],\n",
       " ['CUB', 58],\n",
       " ['AUS', 56],\n",
       " ['HUN', 52],\n",
       " ['NOR', 49],\n",
       " ['COL', 42],\n",
       " ['VEN', 41],\n",
       " ['KOR', 35],\n",
       " ['PER', 34],\n",
       " ['IND', 28],\n",
       " ['GBR', 28],\n",
       " ['TUR', 26],\n",
       " ['HRV', 25],\n",
       " ['YUG', 24],\n",
       " ['URY', 21],\n",
       " ['IRN', 21],\n",
       " ['ROU', 20],\n",
       " ['IRL', 19],\n",
       " ['HTI', 17],\n",
       " ['PRT', 17],\n",
       " ['NZL', 16],\n",
       " ['GRC', 13],\n",
       " ['UKR', 11],\n",
       " ['ISL', 11],\n",
       " ['SVK', 8],\n",
       " ['BIH', 8],\n",
       " ['EGY', 8],\n",
       " ['TWN', 7],\n",
       " ['GEO', 7],\n",
       " ['VNM', 7],\n",
       " ['DZA', 6],\n",
       " ['SVN', 6],\n",
       " ['CZE', 6],\n",
       " ['SRB', 6],\n",
       " ['LBN', 6],\n",
       " ['GTM', 5],\n",
       " ['MAR', 5],\n",
       " ['PRI', 5],\n",
       " ['ECU', 4],\n",
       " ['LUX', 4],\n",
       " ['ZWE', 4],\n",
       " ['BGR', 4],\n",
       " ['TUN', 4],\n",
       " ['ALB', 4],\n",
       " ['PSE', 4],\n",
       " ['IRQ', 4],\n",
       " ['EST', 3],\n",
       " ['BOL', 3],\n",
       " ['CAN', 3],\n",
       " ['SEN', 3],\n",
       " ['THA', 3],\n",
       " ['PAK', 3],\n",
       " ['MLI', 3],\n",
       " ['NGA', 3],\n",
       " ['SGP', 3],\n",
       " ['GHA', 3],\n",
       " ['KGZ', 3],\n",
       " ['PHL', 3],\n",
       " ['XXX', 2],\n",
       " ['CRI', 2],\n",
       " ['COG', 2],\n",
       " ['PAN', 2],\n",
       " ['NIC', 2],\n",
       " ['LVA', 2],\n",
       " ['XXX', 2],\n",
       " ['LTU', 2],\n",
       " ['KEN', 2],\n",
       " ['MYS', 2],\n",
       " ['NAM', 2],\n",
       " ['XXX', 2],\n",
       " ['GBR', 2],\n",
       " ['KAZ', 2],\n",
       " ['KWT', 1],\n",
       " ['GUY', 1],\n",
       " ['PRY', 1],\n",
       " ['TZA', 1],\n",
       " ['SDN', 1],\n",
       " ['ETH', 1],\n",
       " ['BHS', 1],\n",
       " ['ARE', 1],\n",
       " ['CYP', 1],\n",
       " ['AZE', 1],\n",
       " ['CIV', 1],\n",
       " ['TJK', 1],\n",
       " ['KHM', 1],\n",
       " ['AFG', 1],\n",
       " ['USA', 1],\n",
       " ['UGA', 1],\n",
       " ['CMR', 1],\n",
       " ['MRT', 1],\n",
       " ['SYR', 1],\n",
       " ['SAU', 1],\n",
       " ['RWA', 1],\n",
       " ['IDN', 1],\n",
       " ['BFA', 1],\n",
       " ['MKD', 1],\n",
       " ['MOZ', 1],\n",
       " ['AGO', 1],\n",
       " ['ESP', 1],\n",
       " ['ESH', 1]]"
      ]
     },
     "execution_count": 33,
     "metadata": {},
     "output_type": "execute_result"
    }
   ],
   "source": [
    "# looping in data from country codes to match the correct frequency\n",
    "NEWDATA = []\n",
    "for i in range(125):\n",
    "    a = [countrycodes[i],freq_int[i]]\n",
    "    NEWDATA.append(a)\n",
    "    data = np.array(NEWDATA)\n",
    "    \n",
    "NEWDATA"
   ]
  },
  {
   "cell_type": "code",
   "execution_count": 35,
   "id": "74ae3cb7",
   "metadata": {},
   "outputs": [
    {
     "data": {
      "text/html": [
       "<div>\n",
       "<style scoped>\n",
       "    .dataframe tbody tr th:only-of-type {\n",
       "        vertical-align: middle;\n",
       "    }\n",
       "\n",
       "    .dataframe tbody tr th {\n",
       "        vertical-align: top;\n",
       "    }\n",
       "\n",
       "    .dataframe thead th {\n",
       "        text-align: right;\n",
       "    }\n",
       "</style>\n",
       "<table border=\"1\" class=\"dataframe\">\n",
       "  <thead>\n",
       "    <tr style=\"text-align: right;\">\n",
       "      <th></th>\n",
       "      <th>Country Code</th>\n",
       "      <th>Frequency</th>\n",
       "    </tr>\n",
       "  </thead>\n",
       "  <tbody>\n",
       "    <tr>\n",
       "      <th>American</th>\n",
       "      <td>USA</td>\n",
       "      <td>5198</td>\n",
       "    </tr>\n",
       "    <tr>\n",
       "      <th>German</th>\n",
       "      <td>DEU</td>\n",
       "      <td>930</td>\n",
       "    </tr>\n",
       "    <tr>\n",
       "      <th>French</th>\n",
       "      <td>FRA</td>\n",
       "      <td>839</td>\n",
       "    </tr>\n",
       "    <tr>\n",
       "      <th>British</th>\n",
       "      <td>GBR</td>\n",
       "      <td>835</td>\n",
       "    </tr>\n",
       "    <tr>\n",
       "      <th>Italian</th>\n",
       "      <td>ITA</td>\n",
       "      <td>531</td>\n",
       "    </tr>\n",
       "    <tr>\n",
       "      <th>...</th>\n",
       "      <td>...</td>\n",
       "      <td>...</td>\n",
       "    </tr>\n",
       "    <tr>\n",
       "      <th>Macedonian</th>\n",
       "      <td>MKD</td>\n",
       "      <td>1</td>\n",
       "    </tr>\n",
       "    <tr>\n",
       "      <th>Mozambican</th>\n",
       "      <td>MOZ</td>\n",
       "      <td>1</td>\n",
       "    </tr>\n",
       "    <tr>\n",
       "      <th>Angolan</th>\n",
       "      <td>AGO</td>\n",
       "      <td>1</td>\n",
       "    </tr>\n",
       "    <tr>\n",
       "      <th>Catalan</th>\n",
       "      <td>ESP</td>\n",
       "      <td>1</td>\n",
       "    </tr>\n",
       "    <tr>\n",
       "      <th>Sahrawi</th>\n",
       "      <td>ESH</td>\n",
       "      <td>1</td>\n",
       "    </tr>\n",
       "  </tbody>\n",
       "</table>\n",
       "<p>125 rows × 2 columns</p>\n",
       "</div>"
      ],
      "text/plain": [
       "           Country Code  Frequency\n",
       "American            USA       5198\n",
       "German              DEU        930\n",
       "French              FRA        839\n",
       "British             GBR        835\n",
       "Italian             ITA        531\n",
       "...                 ...        ...\n",
       "Macedonian          MKD          1\n",
       "Mozambican          MOZ          1\n",
       "Angolan             AGO          1\n",
       "Catalan             ESP          1\n",
       "Sahrawi             ESH          1\n",
       "\n",
       "[125 rows x 2 columns]"
      ]
     },
     "execution_count": 35,
     "metadata": {},
     "output_type": "execute_result"
    }
   ],
   "source": [
    "# creating a dataframe using the array just created\n",
    "column_values = ['Country Code','Frequency']\n",
    "df = pd.DataFrame(data = NEWDATA,\n",
    "                  index = origin, \n",
    "                  columns = column_values)\n",
    "df"
   ]
  },
  {
   "cell_type": "code",
   "execution_count": 47,
   "id": "63737542",
   "metadata": {},
   "outputs": [
    {
     "data": {
      "text/html": [
       "<div>\n",
       "<style scoped>\n",
       "    .dataframe tbody tr th:only-of-type {\n",
       "        vertical-align: middle;\n",
       "    }\n",
       "\n",
       "    .dataframe tbody tr th {\n",
       "        vertical-align: top;\n",
       "    }\n",
       "\n",
       "    .dataframe thead th {\n",
       "        text-align: right;\n",
       "    }\n",
       "</style>\n",
       "<table border=\"1\" class=\"dataframe\">\n",
       "  <thead>\n",
       "    <tr style=\"text-align: right;\">\n",
       "      <th></th>\n",
       "      <th>Country Code</th>\n",
       "      <th>Frequency</th>\n",
       "    </tr>\n",
       "  </thead>\n",
       "  <tbody>\n",
       "    <tr>\n",
       "      <th>American</th>\n",
       "      <td>USA</td>\n",
       "      <td>5198</td>\n",
       "    </tr>\n",
       "    <tr>\n",
       "      <th>German</th>\n",
       "      <td>DEU</td>\n",
       "      <td>930</td>\n",
       "    </tr>\n",
       "    <tr>\n",
       "      <th>French</th>\n",
       "      <td>FRA</td>\n",
       "      <td>839</td>\n",
       "    </tr>\n",
       "    <tr>\n",
       "      <th>British</th>\n",
       "      <td>GBR</td>\n",
       "      <td>865</td>\n",
       "    </tr>\n",
       "    <tr>\n",
       "      <th>Italian</th>\n",
       "      <td>ITA</td>\n",
       "      <td>531</td>\n",
       "    </tr>\n",
       "    <tr>\n",
       "      <th>...</th>\n",
       "      <td>...</td>\n",
       "      <td>...</td>\n",
       "    </tr>\n",
       "    <tr>\n",
       "      <th>Macedonian</th>\n",
       "      <td>MKD</td>\n",
       "      <td>1</td>\n",
       "    </tr>\n",
       "    <tr>\n",
       "      <th>Mozambican</th>\n",
       "      <td>MOZ</td>\n",
       "      <td>1</td>\n",
       "    </tr>\n",
       "    <tr>\n",
       "      <th>Angolan</th>\n",
       "      <td>AGO</td>\n",
       "      <td>1</td>\n",
       "    </tr>\n",
       "    <tr>\n",
       "      <th>Catalan</th>\n",
       "      <td>ESP</td>\n",
       "      <td>1</td>\n",
       "    </tr>\n",
       "    <tr>\n",
       "      <th>Sahrawi</th>\n",
       "      <td>ESH</td>\n",
       "      <td>1</td>\n",
       "    </tr>\n",
       "  </tbody>\n",
       "</table>\n",
       "<p>125 rows × 2 columns</p>\n",
       "</div>"
      ],
      "text/plain": [
       "           Country Code  Frequency\n",
       "American            USA       5198\n",
       "German              DEU        930\n",
       "French              FRA        839\n",
       "British             GBR        865\n",
       "Italian             ITA        531\n",
       "...                 ...        ...\n",
       "Macedonian          MKD          1\n",
       "Mozambican          MOZ          1\n",
       "Angolan             AGO          1\n",
       "Catalan             ESP          1\n",
       "Sahrawi             ESH          1\n",
       "\n",
       "[125 rows x 2 columns]"
      ]
     },
     "execution_count": 47,
     "metadata": {},
     "output_type": "execute_result"
    }
   ],
   "source": [
    "# adding 28 + 2 to GBR value of 835 = 865 (to include Scottish and Welsh nationalities)\n",
    "df['Frequency'] = df['Frequency'].replace(835,865)\n",
    "df"
   ]
  },
  {
   "cell_type": "code",
   "execution_count": 48,
   "id": "6968d9b6",
   "metadata": {
    "scrolled": true
   },
   "outputs": [
    {
     "data": {
      "text/plain": [
       "'                Country Code  Frequency\\nGerman                   DEU        930\\nFrench                   FRA        839\\nBritish                  GBR        865\\nItalian                  ITA        531\\nJapanese                 JPN        498\\nSwiss                    CHE        280\\nDutch                    NLD        265\\nAustrian                 AUT        243\\nCanadian                 CAN        196\\nRussian                  RUS        188\\nBrazilian                BRA        155\\nSpanish                  ESP        153\\nArgentine                ARG        139\\nSwedish                  SWE        130\\nMexican                  MEX        128\\nPolish                   POL        125\\nDanish                   DNK        119\\nBelgian                  BEL         89\\nCzech                    CZE         83\\nChinese                  CHN         81\\nIsraeli                  ISR         75\\nSouth African            ZAF         69\\nChilean                  CHL         61\\nFinnish                  FIN         60\\nCuban                    CUB         58\\nAustralian               AUS         56\\nHungarian                HUN         52\\nNorwegian                NOR         49\\nColombian                COL         42\\nVenezuelan               VEN         41\\nKorean                   KOR         35\\nPeruvian                 PER         34\\nIndian                   IND         28\\nTurkish                  TUR         26\\nCroatian                 HRV         25\\nYugoslav                 YUG         24\\nUruguayan                URY         21\\nIranian                  IRN         21\\nRomanian                 ROU         20\\nIrish                    IRL         19\\nHaitian                  HTI         17\\nPortuguese               PRT         17\\nNew Zealander            NZL         16\\nGreek                    GRC         13\\nUkrainian                UKR         11\\nIcelandic                ISL         11\\nSlovak                   SVK          8\\nBosnian                  BIH          8\\nEgyptian                 EGY          8\\nTaiwanese                TWN          7\\nGeorgian                 GEO          7\\nVietnamese               VNM          7\\nAlgerian                 DZA          6\\nSlovenian                SVN          6\\nCzechoslovakian          CZE          6\\nSerbian                  SRB          6\\nLebanese                 LBN          6\\nGuatemalan               GTM          5\\nMoroccan                 MAR          5\\nPuerto Rican             PRI          5\\nEcuadorian               ECU          4\\nLuxembourgish            LUX          4\\nZimbabwean               ZWE          4\\nBulgarian                BGR          4\\nTunisian                 TUN          4\\nAlbanian                 ALB          4\\nPalestinian              PSE          4\\nIraqi                    IRQ          4\\nEstonian                 EST          3\\nBolivian                 BOL          3\\nCanadian Inuit           CAN          3\\nSenegalese               SEN          3\\nThai                     THA          3\\nPakistani                PAK          3\\nMalian                   MLI          3\\nNigerian                 NGA          3\\nSingaporean              SGP          3\\nGhanaian                 GHA          3\\nKyrgyzstani              KGZ          3\\nFilipino                 PHL          3\\nCosta Rican              CRI          2\\nCongolese                COG          2\\nPanamanian               PAN          2\\nNicaraguan               NIC          2\\nLatvian                  LVA          2\\nLithuanian               LTU          2\\nKenyan                   KEN          2\\nMalaysian                MYS          2\\nNamibian                 NAM          2\\nKazakhstani              KAZ          2\\nKuwaiti                  KWT          1\\nGuyanese                 GUY          1\\nParaguayan               PRY          1\\nTanzanian                TZA          1\\nSudanese                 SDN          1\\nEthiopian                ETH          1\\nBahamian                 BHS          1\\nEmirati                  ARE          1\\nCypriot                  CYP          1\\nAzerbaijani              AZE          1\\nIvorian                  CIV          1\\nTajik                    TJK          1\\nCambodian                KHM          1\\nAfghan                   AFG          1\\nUgandan                  UGA          1\\nCameroonian              CMR          1\\nMauritanian              MRT          1\\nSyrian                   SYR          1\\nSaudi Arabian            SAU          1\\nRwandan                  RWA          1\\nIndonesian               IDN          1\\nBurkinabe                BFA          1\\nMacedonian               MKD          1\\nMozambican               MOZ          1\\nAngolan                  AGO          1\\nCatalan                  ESP          1\\nSahrawi                  ESH          1'"
      ]
     },
     "execution_count": 48,
     "metadata": {},
     "output_type": "execute_result"
    }
   ],
   "source": [
    "# dropping American label and Nationality Unknowns and Welsh/Scottish\n",
    "df1 = df.drop(labels=['American','Native American','Nationality Unknown','Nationality unknown', 'nationality unknown',\n",
    "                     'Various','Welsh', 'Scottish'])\n",
    "df1.to_string() # double checking data looks right"
   ]
  },
  {
   "cell_type": "code",
   "execution_count": 49,
   "id": "efff536d",
   "metadata": {
    "scrolled": true
   },
   "outputs": [
    {
     "data": {
      "application/vnd.plotly.v1+json": {
       "config": {
        "plotlyServerURL": "https://plot.ly"
       },
       "data": [
        {
         "colorbar": {
          "title": {
           "text": "Frequency of Nationality"
          }
         },
         "colorscale": [
          [
           0,
           "rgb(255,255,217)"
          ],
          [
           0.125,
           "rgb(237,248,177)"
          ],
          [
           0.25,
           "rgb(199,233,180)"
          ],
          [
           0.375,
           "rgb(127,205,187)"
          ],
          [
           0.5,
           "rgb(65,182,196)"
          ],
          [
           0.625,
           "rgb(29,145,192)"
          ],
          [
           0.75,
           "rgb(34,94,168)"
          ],
          [
           0.875,
           "rgb(37,52,148)"
          ],
          [
           1,
           "rgb(8,29,88)"
          ]
         ],
         "locationmode": "ISO-3",
         "locations": [
          "DEU",
          "FRA",
          "GBR",
          "ITA",
          "JPN",
          "CHE",
          "NLD",
          "AUT",
          "CAN",
          "RUS",
          "BRA",
          "ESP",
          "ARG",
          "SWE",
          "MEX",
          "POL",
          "DNK",
          "BEL",
          "CZE",
          "CHN",
          "ISR",
          "ZAF",
          "CHL",
          "FIN",
          "CUB",
          "AUS",
          "HUN",
          "NOR",
          "COL",
          "VEN",
          "KOR",
          "PER",
          "IND",
          "TUR",
          "HRV",
          "YUG",
          "URY",
          "IRN",
          "ROU",
          "IRL",
          "HTI",
          "PRT",
          "NZL",
          "GRC",
          "UKR",
          "ISL",
          "SVK",
          "BIH",
          "EGY",
          "TWN",
          "GEO",
          "VNM",
          "DZA",
          "SVN",
          "CZE",
          "SRB",
          "LBN",
          "GTM",
          "MAR",
          "PRI",
          "ECU",
          "LUX",
          "ZWE",
          "BGR",
          "TUN",
          "ALB",
          "PSE",
          "IRQ",
          "EST",
          "BOL",
          "CAN",
          "SEN",
          "THA",
          "PAK",
          "MLI",
          "NGA",
          "SGP",
          "GHA",
          "KGZ",
          "PHL",
          "CRI",
          "COG",
          "PAN",
          "NIC",
          "LVA",
          "LTU",
          "KEN",
          "MYS",
          "NAM",
          "KAZ",
          "KWT",
          "GUY",
          "PRY",
          "TZA",
          "SDN",
          "ETH",
          "BHS",
          "ARE",
          "CYP",
          "AZE",
          "CIV",
          "TJK",
          "KHM",
          "AFG",
          "UGA",
          "CMR",
          "MRT",
          "SYR",
          "SAU",
          "RWA",
          "IDN",
          "BFA",
          "MKD",
          "MOZ",
          "AGO",
          "ESP",
          "ESH"
         ],
         "type": "choropleth",
         "z": [
          930,
          839,
          865,
          531,
          498,
          280,
          265,
          243,
          196,
          188,
          155,
          153,
          139,
          130,
          128,
          125,
          119,
          89,
          83,
          81,
          75,
          69,
          61,
          60,
          58,
          56,
          52,
          49,
          42,
          41,
          35,
          34,
          28,
          26,
          25,
          24,
          21,
          21,
          20,
          19,
          17,
          17,
          16,
          13,
          11,
          11,
          8,
          8,
          8,
          7,
          7,
          7,
          6,
          6,
          6,
          6,
          6,
          5,
          5,
          5,
          4,
          4,
          4,
          4,
          4,
          4,
          4,
          4,
          3,
          3,
          3,
          3,
          3,
          3,
          3,
          3,
          3,
          3,
          3,
          3,
          2,
          2,
          2,
          2,
          2,
          2,
          2,
          2,
          2,
          2,
          1,
          1,
          1,
          1,
          1,
          1,
          1,
          1,
          1,
          1,
          1,
          1,
          1,
          1,
          1,
          1,
          1,
          1,
          1,
          1,
          1,
          1,
          1,
          1,
          1,
          1,
          1
         ]
        }
       ],
       "layout": {
        "geo": {
         "scope": "world"
        },
        "template": {
         "data": {
          "bar": [
           {
            "error_x": {
             "color": "#2a3f5f"
            },
            "error_y": {
             "color": "#2a3f5f"
            },
            "marker": {
             "line": {
              "color": "#E5ECF6",
              "width": 0.5
             },
             "pattern": {
              "fillmode": "overlay",
              "size": 10,
              "solidity": 0.2
             }
            },
            "type": "bar"
           }
          ],
          "barpolar": [
           {
            "marker": {
             "line": {
              "color": "#E5ECF6",
              "width": 0.5
             },
             "pattern": {
              "fillmode": "overlay",
              "size": 10,
              "solidity": 0.2
             }
            },
            "type": "barpolar"
           }
          ],
          "carpet": [
           {
            "aaxis": {
             "endlinecolor": "#2a3f5f",
             "gridcolor": "white",
             "linecolor": "white",
             "minorgridcolor": "white",
             "startlinecolor": "#2a3f5f"
            },
            "baxis": {
             "endlinecolor": "#2a3f5f",
             "gridcolor": "white",
             "linecolor": "white",
             "minorgridcolor": "white",
             "startlinecolor": "#2a3f5f"
            },
            "type": "carpet"
           }
          ],
          "choropleth": [
           {
            "colorbar": {
             "outlinewidth": 0,
             "ticks": ""
            },
            "type": "choropleth"
           }
          ],
          "contour": [
           {
            "colorbar": {
             "outlinewidth": 0,
             "ticks": ""
            },
            "colorscale": [
             [
              0,
              "#0d0887"
             ],
             [
              0.1111111111111111,
              "#46039f"
             ],
             [
              0.2222222222222222,
              "#7201a8"
             ],
             [
              0.3333333333333333,
              "#9c179e"
             ],
             [
              0.4444444444444444,
              "#bd3786"
             ],
             [
              0.5555555555555556,
              "#d8576b"
             ],
             [
              0.6666666666666666,
              "#ed7953"
             ],
             [
              0.7777777777777778,
              "#fb9f3a"
             ],
             [
              0.8888888888888888,
              "#fdca26"
             ],
             [
              1,
              "#f0f921"
             ]
            ],
            "type": "contour"
           }
          ],
          "contourcarpet": [
           {
            "colorbar": {
             "outlinewidth": 0,
             "ticks": ""
            },
            "type": "contourcarpet"
           }
          ],
          "heatmap": [
           {
            "colorbar": {
             "outlinewidth": 0,
             "ticks": ""
            },
            "colorscale": [
             [
              0,
              "#0d0887"
             ],
             [
              0.1111111111111111,
              "#46039f"
             ],
             [
              0.2222222222222222,
              "#7201a8"
             ],
             [
              0.3333333333333333,
              "#9c179e"
             ],
             [
              0.4444444444444444,
              "#bd3786"
             ],
             [
              0.5555555555555556,
              "#d8576b"
             ],
             [
              0.6666666666666666,
              "#ed7953"
             ],
             [
              0.7777777777777778,
              "#fb9f3a"
             ],
             [
              0.8888888888888888,
              "#fdca26"
             ],
             [
              1,
              "#f0f921"
             ]
            ],
            "type": "heatmap"
           }
          ],
          "heatmapgl": [
           {
            "colorbar": {
             "outlinewidth": 0,
             "ticks": ""
            },
            "colorscale": [
             [
              0,
              "#0d0887"
             ],
             [
              0.1111111111111111,
              "#46039f"
             ],
             [
              0.2222222222222222,
              "#7201a8"
             ],
             [
              0.3333333333333333,
              "#9c179e"
             ],
             [
              0.4444444444444444,
              "#bd3786"
             ],
             [
              0.5555555555555556,
              "#d8576b"
             ],
             [
              0.6666666666666666,
              "#ed7953"
             ],
             [
              0.7777777777777778,
              "#fb9f3a"
             ],
             [
              0.8888888888888888,
              "#fdca26"
             ],
             [
              1,
              "#f0f921"
             ]
            ],
            "type": "heatmapgl"
           }
          ],
          "histogram": [
           {
            "marker": {
             "pattern": {
              "fillmode": "overlay",
              "size": 10,
              "solidity": 0.2
             }
            },
            "type": "histogram"
           }
          ],
          "histogram2d": [
           {
            "colorbar": {
             "outlinewidth": 0,
             "ticks": ""
            },
            "colorscale": [
             [
              0,
              "#0d0887"
             ],
             [
              0.1111111111111111,
              "#46039f"
             ],
             [
              0.2222222222222222,
              "#7201a8"
             ],
             [
              0.3333333333333333,
              "#9c179e"
             ],
             [
              0.4444444444444444,
              "#bd3786"
             ],
             [
              0.5555555555555556,
              "#d8576b"
             ],
             [
              0.6666666666666666,
              "#ed7953"
             ],
             [
              0.7777777777777778,
              "#fb9f3a"
             ],
             [
              0.8888888888888888,
              "#fdca26"
             ],
             [
              1,
              "#f0f921"
             ]
            ],
            "type": "histogram2d"
           }
          ],
          "histogram2dcontour": [
           {
            "colorbar": {
             "outlinewidth": 0,
             "ticks": ""
            },
            "colorscale": [
             [
              0,
              "#0d0887"
             ],
             [
              0.1111111111111111,
              "#46039f"
             ],
             [
              0.2222222222222222,
              "#7201a8"
             ],
             [
              0.3333333333333333,
              "#9c179e"
             ],
             [
              0.4444444444444444,
              "#bd3786"
             ],
             [
              0.5555555555555556,
              "#d8576b"
             ],
             [
              0.6666666666666666,
              "#ed7953"
             ],
             [
              0.7777777777777778,
              "#fb9f3a"
             ],
             [
              0.8888888888888888,
              "#fdca26"
             ],
             [
              1,
              "#f0f921"
             ]
            ],
            "type": "histogram2dcontour"
           }
          ],
          "mesh3d": [
           {
            "colorbar": {
             "outlinewidth": 0,
             "ticks": ""
            },
            "type": "mesh3d"
           }
          ],
          "parcoords": [
           {
            "line": {
             "colorbar": {
              "outlinewidth": 0,
              "ticks": ""
             }
            },
            "type": "parcoords"
           }
          ],
          "pie": [
           {
            "automargin": true,
            "type": "pie"
           }
          ],
          "scatter": [
           {
            "marker": {
             "colorbar": {
              "outlinewidth": 0,
              "ticks": ""
             }
            },
            "type": "scatter"
           }
          ],
          "scatter3d": [
           {
            "line": {
             "colorbar": {
              "outlinewidth": 0,
              "ticks": ""
             }
            },
            "marker": {
             "colorbar": {
              "outlinewidth": 0,
              "ticks": ""
             }
            },
            "type": "scatter3d"
           }
          ],
          "scattercarpet": [
           {
            "marker": {
             "colorbar": {
              "outlinewidth": 0,
              "ticks": ""
             }
            },
            "type": "scattercarpet"
           }
          ],
          "scattergeo": [
           {
            "marker": {
             "colorbar": {
              "outlinewidth": 0,
              "ticks": ""
             }
            },
            "type": "scattergeo"
           }
          ],
          "scattergl": [
           {
            "marker": {
             "colorbar": {
              "outlinewidth": 0,
              "ticks": ""
             }
            },
            "type": "scattergl"
           }
          ],
          "scattermapbox": [
           {
            "marker": {
             "colorbar": {
              "outlinewidth": 0,
              "ticks": ""
             }
            },
            "type": "scattermapbox"
           }
          ],
          "scatterpolar": [
           {
            "marker": {
             "colorbar": {
              "outlinewidth": 0,
              "ticks": ""
             }
            },
            "type": "scatterpolar"
           }
          ],
          "scatterpolargl": [
           {
            "marker": {
             "colorbar": {
              "outlinewidth": 0,
              "ticks": ""
             }
            },
            "type": "scatterpolargl"
           }
          ],
          "scatterternary": [
           {
            "marker": {
             "colorbar": {
              "outlinewidth": 0,
              "ticks": ""
             }
            },
            "type": "scatterternary"
           }
          ],
          "surface": [
           {
            "colorbar": {
             "outlinewidth": 0,
             "ticks": ""
            },
            "colorscale": [
             [
              0,
              "#0d0887"
             ],
             [
              0.1111111111111111,
              "#46039f"
             ],
             [
              0.2222222222222222,
              "#7201a8"
             ],
             [
              0.3333333333333333,
              "#9c179e"
             ],
             [
              0.4444444444444444,
              "#bd3786"
             ],
             [
              0.5555555555555556,
              "#d8576b"
             ],
             [
              0.6666666666666666,
              "#ed7953"
             ],
             [
              0.7777777777777778,
              "#fb9f3a"
             ],
             [
              0.8888888888888888,
              "#fdca26"
             ],
             [
              1,
              "#f0f921"
             ]
            ],
            "type": "surface"
           }
          ],
          "table": [
           {
            "cells": {
             "fill": {
              "color": "#EBF0F8"
             },
             "line": {
              "color": "white"
             }
            },
            "header": {
             "fill": {
              "color": "#C8D4E3"
             },
             "line": {
              "color": "white"
             }
            },
            "type": "table"
           }
          ]
         },
         "layout": {
          "annotationdefaults": {
           "arrowcolor": "#2a3f5f",
           "arrowhead": 0,
           "arrowwidth": 1
          },
          "autotypenumbers": "strict",
          "coloraxis": {
           "colorbar": {
            "outlinewidth": 0,
            "ticks": ""
           }
          },
          "colorscale": {
           "diverging": [
            [
             0,
             "#8e0152"
            ],
            [
             0.1,
             "#c51b7d"
            ],
            [
             0.2,
             "#de77ae"
            ],
            [
             0.3,
             "#f1b6da"
            ],
            [
             0.4,
             "#fde0ef"
            ],
            [
             0.5,
             "#f7f7f7"
            ],
            [
             0.6,
             "#e6f5d0"
            ],
            [
             0.7,
             "#b8e186"
            ],
            [
             0.8,
             "#7fbc41"
            ],
            [
             0.9,
             "#4d9221"
            ],
            [
             1,
             "#276419"
            ]
           ],
           "sequential": [
            [
             0,
             "#0d0887"
            ],
            [
             0.1111111111111111,
             "#46039f"
            ],
            [
             0.2222222222222222,
             "#7201a8"
            ],
            [
             0.3333333333333333,
             "#9c179e"
            ],
            [
             0.4444444444444444,
             "#bd3786"
            ],
            [
             0.5555555555555556,
             "#d8576b"
            ],
            [
             0.6666666666666666,
             "#ed7953"
            ],
            [
             0.7777777777777778,
             "#fb9f3a"
            ],
            [
             0.8888888888888888,
             "#fdca26"
            ],
            [
             1,
             "#f0f921"
            ]
           ],
           "sequentialminus": [
            [
             0,
             "#0d0887"
            ],
            [
             0.1111111111111111,
             "#46039f"
            ],
            [
             0.2222222222222222,
             "#7201a8"
            ],
            [
             0.3333333333333333,
             "#9c179e"
            ],
            [
             0.4444444444444444,
             "#bd3786"
            ],
            [
             0.5555555555555556,
             "#d8576b"
            ],
            [
             0.6666666666666666,
             "#ed7953"
            ],
            [
             0.7777777777777778,
             "#fb9f3a"
            ],
            [
             0.8888888888888888,
             "#fdca26"
            ],
            [
             1,
             "#f0f921"
            ]
           ]
          },
          "colorway": [
           "#636efa",
           "#EF553B",
           "#00cc96",
           "#ab63fa",
           "#FFA15A",
           "#19d3f3",
           "#FF6692",
           "#B6E880",
           "#FF97FF",
           "#FECB52"
          ],
          "font": {
           "color": "#2a3f5f"
          },
          "geo": {
           "bgcolor": "white",
           "lakecolor": "white",
           "landcolor": "#E5ECF6",
           "showlakes": true,
           "showland": true,
           "subunitcolor": "white"
          },
          "hoverlabel": {
           "align": "left"
          },
          "hovermode": "closest",
          "mapbox": {
           "style": "light"
          },
          "paper_bgcolor": "white",
          "plot_bgcolor": "#E5ECF6",
          "polar": {
           "angularaxis": {
            "gridcolor": "white",
            "linecolor": "white",
            "ticks": ""
           },
           "bgcolor": "#E5ECF6",
           "radialaxis": {
            "gridcolor": "white",
            "linecolor": "white",
            "ticks": ""
           }
          },
          "scene": {
           "xaxis": {
            "backgroundcolor": "#E5ECF6",
            "gridcolor": "white",
            "gridwidth": 2,
            "linecolor": "white",
            "showbackground": true,
            "ticks": "",
            "zerolinecolor": "white"
           },
           "yaxis": {
            "backgroundcolor": "#E5ECF6",
            "gridcolor": "white",
            "gridwidth": 2,
            "linecolor": "white",
            "showbackground": true,
            "ticks": "",
            "zerolinecolor": "white"
           },
           "zaxis": {
            "backgroundcolor": "#E5ECF6",
            "gridcolor": "white",
            "gridwidth": 2,
            "linecolor": "white",
            "showbackground": true,
            "ticks": "",
            "zerolinecolor": "white"
           }
          },
          "shapedefaults": {
           "line": {
            "color": "#2a3f5f"
           }
          },
          "ternary": {
           "aaxis": {
            "gridcolor": "white",
            "linecolor": "white",
            "ticks": ""
           },
           "baxis": {
            "gridcolor": "white",
            "linecolor": "white",
            "ticks": ""
           },
           "bgcolor": "#E5ECF6",
           "caxis": {
            "gridcolor": "white",
            "linecolor": "white",
            "ticks": ""
           }
          },
          "title": {
           "x": 0.05
          },
          "xaxis": {
           "automargin": true,
           "gridcolor": "white",
           "linecolor": "white",
           "ticks": "",
           "title": {
            "standoff": 15
           },
           "zerolinecolor": "white",
           "zerolinewidth": 2
          },
          "yaxis": {
           "automargin": true,
           "gridcolor": "white",
           "linecolor": "white",
           "ticks": "",
           "title": {
            "standoff": 15
           },
           "zerolinecolor": "white",
           "zerolinewidth": 2
          }
         }
        },
        "title": {
         "text": "Nationality Representation of Artists in NY MOMA (Excluding American)"
        }
       }
      },
      "text/html": [
       "<div>                            <div id=\"eac71487-ae01-4b98-894a-3e5d0b29a127\" class=\"plotly-graph-div\" style=\"height:525px; width:100%;\"></div>            <script type=\"text/javascript\">                require([\"plotly\"], function(Plotly) {                    window.PLOTLYENV=window.PLOTLYENV || {};                                    if (document.getElementById(\"eac71487-ae01-4b98-894a-3e5d0b29a127\")) {                    Plotly.newPlot(                        \"eac71487-ae01-4b98-894a-3e5d0b29a127\",                        [{\"colorbar\":{\"title\":{\"text\":\"Frequency of Nationality\"}},\"colorscale\":[[0.0,\"rgb(255,255,217)\"],[0.125,\"rgb(237,248,177)\"],[0.25,\"rgb(199,233,180)\"],[0.375,\"rgb(127,205,187)\"],[0.5,\"rgb(65,182,196)\"],[0.625,\"rgb(29,145,192)\"],[0.75,\"rgb(34,94,168)\"],[0.875,\"rgb(37,52,148)\"],[1.0,\"rgb(8,29,88)\"]],\"locationmode\":\"ISO-3\",\"locations\":[\"DEU\",\"FRA\",\"GBR\",\"ITA\",\"JPN\",\"CHE\",\"NLD\",\"AUT\",\"CAN\",\"RUS\",\"BRA\",\"ESP\",\"ARG\",\"SWE\",\"MEX\",\"POL\",\"DNK\",\"BEL\",\"CZE\",\"CHN\",\"ISR\",\"ZAF\",\"CHL\",\"FIN\",\"CUB\",\"AUS\",\"HUN\",\"NOR\",\"COL\",\"VEN\",\"KOR\",\"PER\",\"IND\",\"TUR\",\"HRV\",\"YUG\",\"URY\",\"IRN\",\"ROU\",\"IRL\",\"HTI\",\"PRT\",\"NZL\",\"GRC\",\"UKR\",\"ISL\",\"SVK\",\"BIH\",\"EGY\",\"TWN\",\"GEO\",\"VNM\",\"DZA\",\"SVN\",\"CZE\",\"SRB\",\"LBN\",\"GTM\",\"MAR\",\"PRI\",\"ECU\",\"LUX\",\"ZWE\",\"BGR\",\"TUN\",\"ALB\",\"PSE\",\"IRQ\",\"EST\",\"BOL\",\"CAN\",\"SEN\",\"THA\",\"PAK\",\"MLI\",\"NGA\",\"SGP\",\"GHA\",\"KGZ\",\"PHL\",\"CRI\",\"COG\",\"PAN\",\"NIC\",\"LVA\",\"LTU\",\"KEN\",\"MYS\",\"NAM\",\"KAZ\",\"KWT\",\"GUY\",\"PRY\",\"TZA\",\"SDN\",\"ETH\",\"BHS\",\"ARE\",\"CYP\",\"AZE\",\"CIV\",\"TJK\",\"KHM\",\"AFG\",\"UGA\",\"CMR\",\"MRT\",\"SYR\",\"SAU\",\"RWA\",\"IDN\",\"BFA\",\"MKD\",\"MOZ\",\"AGO\",\"ESP\",\"ESH\"],\"type\":\"choropleth\",\"z\":[930,839,865,531,498,280,265,243,196,188,155,153,139,130,128,125,119,89,83,81,75,69,61,60,58,56,52,49,42,41,35,34,28,26,25,24,21,21,20,19,17,17,16,13,11,11,8,8,8,7,7,7,6,6,6,6,6,5,5,5,4,4,4,4,4,4,4,4,3,3,3,3,3,3,3,3,3,3,3,3,2,2,2,2,2,2,2,2,2,2,1,1,1,1,1,1,1,1,1,1,1,1,1,1,1,1,1,1,1,1,1,1,1,1,1,1,1]}],                        {\"geo\":{\"scope\":\"world\"},\"template\":{\"data\":{\"bar\":[{\"error_x\":{\"color\":\"#2a3f5f\"},\"error_y\":{\"color\":\"#2a3f5f\"},\"marker\":{\"line\":{\"color\":\"#E5ECF6\",\"width\":0.5},\"pattern\":{\"fillmode\":\"overlay\",\"size\":10,\"solidity\":0.2}},\"type\":\"bar\"}],\"barpolar\":[{\"marker\":{\"line\":{\"color\":\"#E5ECF6\",\"width\":0.5},\"pattern\":{\"fillmode\":\"overlay\",\"size\":10,\"solidity\":0.2}},\"type\":\"barpolar\"}],\"carpet\":[{\"aaxis\":{\"endlinecolor\":\"#2a3f5f\",\"gridcolor\":\"white\",\"linecolor\":\"white\",\"minorgridcolor\":\"white\",\"startlinecolor\":\"#2a3f5f\"},\"baxis\":{\"endlinecolor\":\"#2a3f5f\",\"gridcolor\":\"white\",\"linecolor\":\"white\",\"minorgridcolor\":\"white\",\"startlinecolor\":\"#2a3f5f\"},\"type\":\"carpet\"}],\"choropleth\":[{\"colorbar\":{\"outlinewidth\":0,\"ticks\":\"\"},\"type\":\"choropleth\"}],\"contour\":[{\"colorbar\":{\"outlinewidth\":0,\"ticks\":\"\"},\"colorscale\":[[0.0,\"#0d0887\"],[0.1111111111111111,\"#46039f\"],[0.2222222222222222,\"#7201a8\"],[0.3333333333333333,\"#9c179e\"],[0.4444444444444444,\"#bd3786\"],[0.5555555555555556,\"#d8576b\"],[0.6666666666666666,\"#ed7953\"],[0.7777777777777778,\"#fb9f3a\"],[0.8888888888888888,\"#fdca26\"],[1.0,\"#f0f921\"]],\"type\":\"contour\"}],\"contourcarpet\":[{\"colorbar\":{\"outlinewidth\":0,\"ticks\":\"\"},\"type\":\"contourcarpet\"}],\"heatmap\":[{\"colorbar\":{\"outlinewidth\":0,\"ticks\":\"\"},\"colorscale\":[[0.0,\"#0d0887\"],[0.1111111111111111,\"#46039f\"],[0.2222222222222222,\"#7201a8\"],[0.3333333333333333,\"#9c179e\"],[0.4444444444444444,\"#bd3786\"],[0.5555555555555556,\"#d8576b\"],[0.6666666666666666,\"#ed7953\"],[0.7777777777777778,\"#fb9f3a\"],[0.8888888888888888,\"#fdca26\"],[1.0,\"#f0f921\"]],\"type\":\"heatmap\"}],\"heatmapgl\":[{\"colorbar\":{\"outlinewidth\":0,\"ticks\":\"\"},\"colorscale\":[[0.0,\"#0d0887\"],[0.1111111111111111,\"#46039f\"],[0.2222222222222222,\"#7201a8\"],[0.3333333333333333,\"#9c179e\"],[0.4444444444444444,\"#bd3786\"],[0.5555555555555556,\"#d8576b\"],[0.6666666666666666,\"#ed7953\"],[0.7777777777777778,\"#fb9f3a\"],[0.8888888888888888,\"#fdca26\"],[1.0,\"#f0f921\"]],\"type\":\"heatmapgl\"}],\"histogram\":[{\"marker\":{\"pattern\":{\"fillmode\":\"overlay\",\"size\":10,\"solidity\":0.2}},\"type\":\"histogram\"}],\"histogram2d\":[{\"colorbar\":{\"outlinewidth\":0,\"ticks\":\"\"},\"colorscale\":[[0.0,\"#0d0887\"],[0.1111111111111111,\"#46039f\"],[0.2222222222222222,\"#7201a8\"],[0.3333333333333333,\"#9c179e\"],[0.4444444444444444,\"#bd3786\"],[0.5555555555555556,\"#d8576b\"],[0.6666666666666666,\"#ed7953\"],[0.7777777777777778,\"#fb9f3a\"],[0.8888888888888888,\"#fdca26\"],[1.0,\"#f0f921\"]],\"type\":\"histogram2d\"}],\"histogram2dcontour\":[{\"colorbar\":{\"outlinewidth\":0,\"ticks\":\"\"},\"colorscale\":[[0.0,\"#0d0887\"],[0.1111111111111111,\"#46039f\"],[0.2222222222222222,\"#7201a8\"],[0.3333333333333333,\"#9c179e\"],[0.4444444444444444,\"#bd3786\"],[0.5555555555555556,\"#d8576b\"],[0.6666666666666666,\"#ed7953\"],[0.7777777777777778,\"#fb9f3a\"],[0.8888888888888888,\"#fdca26\"],[1.0,\"#f0f921\"]],\"type\":\"histogram2dcontour\"}],\"mesh3d\":[{\"colorbar\":{\"outlinewidth\":0,\"ticks\":\"\"},\"type\":\"mesh3d\"}],\"parcoords\":[{\"line\":{\"colorbar\":{\"outlinewidth\":0,\"ticks\":\"\"}},\"type\":\"parcoords\"}],\"pie\":[{\"automargin\":true,\"type\":\"pie\"}],\"scatter\":[{\"marker\":{\"colorbar\":{\"outlinewidth\":0,\"ticks\":\"\"}},\"type\":\"scatter\"}],\"scatter3d\":[{\"line\":{\"colorbar\":{\"outlinewidth\":0,\"ticks\":\"\"}},\"marker\":{\"colorbar\":{\"outlinewidth\":0,\"ticks\":\"\"}},\"type\":\"scatter3d\"}],\"scattercarpet\":[{\"marker\":{\"colorbar\":{\"outlinewidth\":0,\"ticks\":\"\"}},\"type\":\"scattercarpet\"}],\"scattergeo\":[{\"marker\":{\"colorbar\":{\"outlinewidth\":0,\"ticks\":\"\"}},\"type\":\"scattergeo\"}],\"scattergl\":[{\"marker\":{\"colorbar\":{\"outlinewidth\":0,\"ticks\":\"\"}},\"type\":\"scattergl\"}],\"scattermapbox\":[{\"marker\":{\"colorbar\":{\"outlinewidth\":0,\"ticks\":\"\"}},\"type\":\"scattermapbox\"}],\"scatterpolar\":[{\"marker\":{\"colorbar\":{\"outlinewidth\":0,\"ticks\":\"\"}},\"type\":\"scatterpolar\"}],\"scatterpolargl\":[{\"marker\":{\"colorbar\":{\"outlinewidth\":0,\"ticks\":\"\"}},\"type\":\"scatterpolargl\"}],\"scatterternary\":[{\"marker\":{\"colorbar\":{\"outlinewidth\":0,\"ticks\":\"\"}},\"type\":\"scatterternary\"}],\"surface\":[{\"colorbar\":{\"outlinewidth\":0,\"ticks\":\"\"},\"colorscale\":[[0.0,\"#0d0887\"],[0.1111111111111111,\"#46039f\"],[0.2222222222222222,\"#7201a8\"],[0.3333333333333333,\"#9c179e\"],[0.4444444444444444,\"#bd3786\"],[0.5555555555555556,\"#d8576b\"],[0.6666666666666666,\"#ed7953\"],[0.7777777777777778,\"#fb9f3a\"],[0.8888888888888888,\"#fdca26\"],[1.0,\"#f0f921\"]],\"type\":\"surface\"}],\"table\":[{\"cells\":{\"fill\":{\"color\":\"#EBF0F8\"},\"line\":{\"color\":\"white\"}},\"header\":{\"fill\":{\"color\":\"#C8D4E3\"},\"line\":{\"color\":\"white\"}},\"type\":\"table\"}]},\"layout\":{\"annotationdefaults\":{\"arrowcolor\":\"#2a3f5f\",\"arrowhead\":0,\"arrowwidth\":1},\"autotypenumbers\":\"strict\",\"coloraxis\":{\"colorbar\":{\"outlinewidth\":0,\"ticks\":\"\"}},\"colorscale\":{\"diverging\":[[0,\"#8e0152\"],[0.1,\"#c51b7d\"],[0.2,\"#de77ae\"],[0.3,\"#f1b6da\"],[0.4,\"#fde0ef\"],[0.5,\"#f7f7f7\"],[0.6,\"#e6f5d0\"],[0.7,\"#b8e186\"],[0.8,\"#7fbc41\"],[0.9,\"#4d9221\"],[1,\"#276419\"]],\"sequential\":[[0.0,\"#0d0887\"],[0.1111111111111111,\"#46039f\"],[0.2222222222222222,\"#7201a8\"],[0.3333333333333333,\"#9c179e\"],[0.4444444444444444,\"#bd3786\"],[0.5555555555555556,\"#d8576b\"],[0.6666666666666666,\"#ed7953\"],[0.7777777777777778,\"#fb9f3a\"],[0.8888888888888888,\"#fdca26\"],[1.0,\"#f0f921\"]],\"sequentialminus\":[[0.0,\"#0d0887\"],[0.1111111111111111,\"#46039f\"],[0.2222222222222222,\"#7201a8\"],[0.3333333333333333,\"#9c179e\"],[0.4444444444444444,\"#bd3786\"],[0.5555555555555556,\"#d8576b\"],[0.6666666666666666,\"#ed7953\"],[0.7777777777777778,\"#fb9f3a\"],[0.8888888888888888,\"#fdca26\"],[1.0,\"#f0f921\"]]},\"colorway\":[\"#636efa\",\"#EF553B\",\"#00cc96\",\"#ab63fa\",\"#FFA15A\",\"#19d3f3\",\"#FF6692\",\"#B6E880\",\"#FF97FF\",\"#FECB52\"],\"font\":{\"color\":\"#2a3f5f\"},\"geo\":{\"bgcolor\":\"white\",\"lakecolor\":\"white\",\"landcolor\":\"#E5ECF6\",\"showlakes\":true,\"showland\":true,\"subunitcolor\":\"white\"},\"hoverlabel\":{\"align\":\"left\"},\"hovermode\":\"closest\",\"mapbox\":{\"style\":\"light\"},\"paper_bgcolor\":\"white\",\"plot_bgcolor\":\"#E5ECF6\",\"polar\":{\"angularaxis\":{\"gridcolor\":\"white\",\"linecolor\":\"white\",\"ticks\":\"\"},\"bgcolor\":\"#E5ECF6\",\"radialaxis\":{\"gridcolor\":\"white\",\"linecolor\":\"white\",\"ticks\":\"\"}},\"scene\":{\"xaxis\":{\"backgroundcolor\":\"#E5ECF6\",\"gridcolor\":\"white\",\"gridwidth\":2,\"linecolor\":\"white\",\"showbackground\":true,\"ticks\":\"\",\"zerolinecolor\":\"white\"},\"yaxis\":{\"backgroundcolor\":\"#E5ECF6\",\"gridcolor\":\"white\",\"gridwidth\":2,\"linecolor\":\"white\",\"showbackground\":true,\"ticks\":\"\",\"zerolinecolor\":\"white\"},\"zaxis\":{\"backgroundcolor\":\"#E5ECF6\",\"gridcolor\":\"white\",\"gridwidth\":2,\"linecolor\":\"white\",\"showbackground\":true,\"ticks\":\"\",\"zerolinecolor\":\"white\"}},\"shapedefaults\":{\"line\":{\"color\":\"#2a3f5f\"}},\"ternary\":{\"aaxis\":{\"gridcolor\":\"white\",\"linecolor\":\"white\",\"ticks\":\"\"},\"baxis\":{\"gridcolor\":\"white\",\"linecolor\":\"white\",\"ticks\":\"\"},\"bgcolor\":\"#E5ECF6\",\"caxis\":{\"gridcolor\":\"white\",\"linecolor\":\"white\",\"ticks\":\"\"}},\"title\":{\"x\":0.05},\"xaxis\":{\"automargin\":true,\"gridcolor\":\"white\",\"linecolor\":\"white\",\"ticks\":\"\",\"title\":{\"standoff\":15},\"zerolinecolor\":\"white\",\"zerolinewidth\":2},\"yaxis\":{\"automargin\":true,\"gridcolor\":\"white\",\"linecolor\":\"white\",\"ticks\":\"\",\"title\":{\"standoff\":15},\"zerolinecolor\":\"white\",\"zerolinewidth\":2}}},\"title\":{\"text\":\"Nationality Representation of Artists in NY MOMA (Excluding American)\"}},                        {\"responsive\": true}                    ).then(function(){\n",
       "                            \n",
       "var gd = document.getElementById('eac71487-ae01-4b98-894a-3e5d0b29a127');\n",
       "var x = new MutationObserver(function (mutations, observer) {{\n",
       "        var display = window.getComputedStyle(gd).display;\n",
       "        if (!display || display === 'none') {{\n",
       "            console.log([gd, 'removed!']);\n",
       "            Plotly.purge(gd);\n",
       "            observer.disconnect();\n",
       "        }}\n",
       "}});\n",
       "\n",
       "// Listen for the removal of the full notebook cells\n",
       "var notebookContainer = gd.closest('#notebook-container');\n",
       "if (notebookContainer) {{\n",
       "    x.observe(notebookContainer, {childList: true});\n",
       "}}\n",
       "\n",
       "// Listen for the clearing of the current output cell\n",
       "var outputEl = gd.closest('.output');\n",
       "if (outputEl) {{\n",
       "    x.observe(outputEl, {childList: true});\n",
       "}}\n",
       "\n",
       "                        })                };                });            </script>        </div>"
      ]
     },
     "metadata": {},
     "output_type": "display_data"
    }
   ],
   "source": [
    "choropleth_map = go.Figure(\n",
    "    data = {\n",
    "        'type':'choropleth',\n",
    "        'locationmode':'ISO-3',        \n",
    "        'locations':df1['Country Code'],\n",
    "        'colorscale':'YlGnBu',            \n",
    "        'z':df1['Frequency'],                  \n",
    "        'colorbar':{'title':'Frequency of Nationality'}\n",
    "    }, layout = {\n",
    "      'geo':{\n",
    "          'scope':'world'\n",
    "      }  \n",
    "    })\n",
    "\n",
    "choropleth_map.update_layout(\n",
    "    title_text = 'Nationality Representation of Artists in NY MOMA (Excluding American)')"
   ]
  },
  {
   "cell_type": "code",
   "execution_count": null,
   "id": "fbf1d69c",
   "metadata": {},
   "outputs": [],
   "source": []
  }
 ],
 "metadata": {
  "kernelspec": {
   "display_name": "Python 3",
   "language": "python",
   "name": "python3"
  },
  "language_info": {
   "codemirror_mode": {
    "name": "ipython",
    "version": 3
   },
   "file_extension": ".py",
   "mimetype": "text/x-python",
   "name": "python",
   "nbconvert_exporter": "python",
   "pygments_lexer": "ipython3",
   "version": "3.8.8"
  }
 },
 "nbformat": 4,
 "nbformat_minor": 5
}
